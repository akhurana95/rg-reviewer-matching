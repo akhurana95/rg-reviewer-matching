{
 "metadata": {
  "language_info": {
   "codemirror_mode": {
    "name": "ipython",
    "version": 3
   },
   "file_extension": ".py",
   "mimetype": "text/x-python",
   "name": "python",
   "nbconvert_exporter": "python",
   "pygments_lexer": "ipython3",
   "version": "3.6.13-final"
  },
  "orig_nbformat": 2,
  "kernelspec": {
   "name": "python3",
   "display_name": "Python 3.6.13 64-bit ('scispacy': conda)",
   "metadata": {
    "interpreter": {
     "hash": "52929d904775d521f613cf47c9522864c0e152bddc6f8c6b2a2a469a3e6b3b35"
    }
   }
  }
 },
 "nbformat": 4,
 "nbformat_minor": 2,
 "cells": [
  {
   "source": [
    "# RADIOGRAPHICS REVIEWER PANEL MATCHING: HOW TO QUICKLY PAIR REVIEWERS WITH ARTICLES EFFICIENTLY BASED ON PREFERENCE AND CONTENT EXPERTISE; MODELED OFF THE MEDICAL RESIDENCY MATCHING ALGORITHM, ROTH PERANSON ALGORITHM FOR GAME THEORY"
   ],
   "cell_type": "markdown",
   "metadata": {}
  },
  {
   "source": [
    "## Problem: You have x number of reviewers and y number of articles; each article has a topic that it falls under and needs to be reviewed twice; there are certain themes that some reviewers do not wish to review because they don't have the content knowledge"
   ],
   "cell_type": "markdown",
   "metadata": {}
  },
  {
   "cell_type": "code",
   "execution_count": 1,
   "metadata": {},
   "outputs": [],
   "source": [
    "import numpy as np\n",
    "import pandas as pd\n",
    "import random"
   ]
  },
  {
   "source": [
    "### We will need to create \"rank lists\" on both sides\n",
    "### This will be done by generating dictionaries where the key,value pairs are the potential reviewers that an abstract can be assigned and vice versa\n",
    "### A pseudo-rank order will be determined by a random shuffling of the order of the potential pairings\n",
    "\n",
    "### From there the MATCH/game theory algorithm will undergo the sorting, all Y articles should receive a pairing among the X reviewers if Y < (X*n), where n is the maximum number of articles that a reviewer can review as part of their responsibilities to the journal"
   ],
   "cell_type": "markdown",
   "metadata": {}
  },
  {
   "source": [
    "## EXAMPLE: Let's say we have 10 reviewers and 25 articles to review that fall into five categories; some reviewers have preferences for which types of content they wish to review"
   ],
   "cell_type": "markdown",
   "metadata": {}
  },
  {
   "cell_type": "code",
   "execution_count": 2,
   "metadata": {},
   "outputs": [],
   "source": [
    "\n",
    "reviewer_dict = {\n",
    "    'Juluru':['AI','Data Science','Informatics'],\n",
    "    'Khurana':['Data Science'],\n",
    "    'Menias':['AI','PACS'],\n",
    "    'Wang':['Data Science'],\n",
    "    'Brooke':['EMR','PACS'],\n",
    "    'Hwang':['AI','Data Science','EMR'],\n",
    "    'Shapiro':['Data Science'],\n",
    "    'Truong':['AI','EMR'],\n",
    "    'Lopera':['PACS'],\n",
    "    'Bedi':['AI','EMR','Informatics'],\n",
    "    'Kruskal':['AI','Informatics'],\n",
    "    'Manning':['Data Science','Informatics'],\n",
    "}\n",
    "\n",
    "#Total of 5 topics among 20 articles in this example\n",
    "article_topics = {\n",
    "    'A1' : 'AI',\n",
    "    'A2' : 'Data Science',\n",
    "    'A3' : 'AI',\n",
    "    'A4' : 'EMR',\n",
    "    'A5' : 'PACS',\n",
    "    'A6' : 'AI',\n",
    "    'A7' : 'Data Science',\n",
    "    'A8' : 'AI',\n",
    "    'A9' : 'EMR',\n",
    "    'A10' : 'AI',\n",
    "    'A11' : 'PACS',\n",
    "    'A12' : 'Data Science',\n",
    "    'A13' : 'AI',\n",
    "    'A14' : 'EMR',\n",
    "    'A15' : 'AI',\n",
    "    'A16' : 'AI',\n",
    "    'A17' : 'PACS',\n",
    "    'A18' : 'AI',\n",
    "    'A19' : 'Informatics',\n",
    "    'A20' : 'AI',\n",
    "}\n"
   ]
  },
  {
   "source": [
    "## Generating the rank order lists\n",
    "### First we will compile a dictionary of all possible articles that a reviewer can be assigned and all possible reviewers that an article can be read by. Psuedo-rank-order lists will be created by shuffling these dictionaries"
   ],
   "cell_type": "markdown",
   "metadata": {}
  },
  {
   "cell_type": "code",
   "execution_count": 3,
   "metadata": {},
   "outputs": [
    {
     "output_type": "stream",
     "name": "stdout",
     "text": [
      "{'A1': ['Kruskal', 'Bedi', 'Menias', 'Hwang', 'Juluru', 'Truong'], 'A2': ['Khurana', 'Hwang', 'Shapiro', 'Juluru', 'Wang', 'Manning'], 'A3': ['Hwang', 'Kruskal', 'Menias', 'Bedi', 'Truong', 'Juluru'], 'A4': ['Brooke', 'Hwang', 'Bedi', 'Truong'], 'A5': ['Brooke', 'Menias', 'Lopera'], 'A6': ['Hwang', 'Kruskal', 'Juluru', 'Menias', 'Bedi', 'Truong'], 'A7': ['Manning', 'Juluru', 'Shapiro', 'Hwang', 'Khurana', 'Wang'], 'A8': ['Hwang', 'Truong', 'Bedi', 'Juluru', 'Menias', 'Kruskal'], 'A9': ['Truong', 'Brooke', 'Bedi', 'Hwang'], 'A10': ['Juluru', 'Kruskal', 'Menias', 'Hwang', 'Bedi', 'Truong'], 'A11': ['Menias', 'Lopera', 'Brooke'], 'A12': ['Hwang', 'Khurana', 'Shapiro', 'Manning', 'Juluru', 'Wang'], 'A13': ['Menias', 'Bedi', 'Kruskal', 'Hwang', 'Juluru', 'Truong'], 'A14': ['Hwang', 'Bedi', 'Brooke', 'Truong'], 'A15': ['Juluru', 'Hwang', 'Truong', 'Menias', 'Kruskal', 'Bedi'], 'A16': ['Hwang', 'Menias', 'Kruskal', 'Juluru', 'Truong', 'Bedi'], 'A17': ['Menias', 'Brooke', 'Lopera'], 'A18': ['Menias', 'Truong', 'Juluru', 'Kruskal', 'Bedi', 'Hwang'], 'A19': ['Bedi', 'Kruskal', 'Manning', 'Juluru'], 'A20': ['Hwang', 'Bedi', 'Menias', 'Kruskal', 'Truong', 'Juluru']}\n{'Juluru': ['A6', 'A2', 'A12', 'A20', 'A13', 'A15', 'A7', 'A18', 'A1', 'A19', 'A10', 'A3', 'A8', 'A16'], 'Khurana': ['A7', 'A12', 'A2'], 'Menias': ['A20', 'A13', 'A17', 'A8', 'A11', 'A16', 'A10', 'A3', 'A18', 'A15', 'A6', 'A5', 'A1'], 'Wang': ['A7', 'A12', 'A2'], 'Brooke': ['A14', 'A17', 'A5', 'A11', 'A4', 'A9'], 'Hwang': ['A15', 'A4', 'A12', 'A10', 'A20', 'A1', 'A16', 'A8', 'A6', 'A13', 'A18', 'A9', 'A14', 'A7', 'A3', 'A2'], 'Shapiro': ['A7', 'A2', 'A12'], 'Truong': ['A1', 'A15', 'A4', 'A8', 'A16', 'A18', 'A20', 'A3', 'A6', 'A10', 'A9', 'A13', 'A14'], 'Lopera': ['A17', 'A11', 'A5'], 'Bedi': ['A9', 'A18', 'A20', 'A10', 'A15', 'A16', 'A13', 'A4', 'A3', 'A1', 'A14', 'A6', 'A8', 'A19'], 'Kruskal': ['A18', 'A20', 'A16', 'A10', 'A13', 'A19', 'A8', 'A6', 'A15', 'A1', 'A3'], 'Manning': ['A12', 'A2', 'A19', 'A7']}\n"
     ]
    }
   ],
   "source": [
    "\n",
    "article_rank_order = {}\n",
    "for article, topic in article_topics.items():\n",
    "    article_rank_order[article] = [reviewer for reviewer, can_review in reviewer_dict.items() if topic in can_review]\n",
    "    random.shuffle(article_rank_order[article])\n",
    "# article_rank_order\n",
    "\n",
    "reviewer_rank_order = {}\n",
    "for reviewer, can_review in reviewer_dict.items():\n",
    "    potential_topics = []\n",
    "    for topic in can_review:\n",
    "        potential_topics += [article for article, val in article_topics.items() if topic == val]\n",
    "    reviewer_rank_order[reviewer] = potential_topics\n",
    "    random.shuffle(reviewer_rank_order[reviewer])\n",
    "\n",
    "\n",
    "print(article_rank_order)\n",
    "print(reviewer_rank_order)"
   ]
  },
  {
   "source": [
    "# Based off GitHub Python code simulating the Roth Peranson Nobel Prize Winning Algorithm for Medical Residency Matching\n",
    "#### https://github.com/J-DM/Roth-Peranson"
   ],
   "cell_type": "markdown",
   "metadata": {}
  },
  {
   "cell_type": "code",
   "execution_count": 6,
   "metadata": {},
   "outputs": [],
   "source": [
    "from match.RothPeranson import MatchController\n",
    "\n",
    "\n",
    "def match_articles_to_reviewers(article_rank_order, reviewer_rank_order, reviewer_article_limit):\n",
    "    article_rol = pd.DataFrame(dict([ (k,pd.Series(v)) for k,v in article_rank_order.items() ]))\n",
    "    reviewer_rol = pd.DataFrame(dict([ (k,pd.Series(v)) for k,v in reviewer_rank_order.items() ]))\n",
    "    reviewer_places = pd.DataFrame(len(reviewer_rank_order)*[reviewer_article_limit],reviewer_rank_order.keys(), columns = ['places'])\n",
    "\n",
    "    match = MatchController(reviewer_rol, article_rol, reviewer_places)\n",
    "    match.start_match()\n",
    "    results = match.results_dict()\n",
    "\n",
    "    return results\n",
    "\n"
   ]
  },
  {
   "cell_type": "code",
   "execution_count": 11,
   "metadata": {},
   "outputs": [
    {
     "output_type": "execute_result",
     "data": {
      "text/plain": [
       "{'A1': 'Kruskal',\n",
       " 'A2': 'Khurana',\n",
       " 'A3': 'Kruskal',\n",
       " 'A4': 'Brooke',\n",
       " 'A5': 'Brooke',\n",
       " 'A6': 'Kruskal',\n",
       " 'A7': 'Manning',\n",
       " 'A8': 'Truong',\n",
       " 'A9': 'Truong',\n",
       " 'A10': 'Juluru',\n",
       " 'A11': 'Menias',\n",
       " 'A12': 'Hwang',\n",
       " 'A13': 'Menias',\n",
       " 'A14': 'Bedi',\n",
       " 'A15': 'Juluru',\n",
       " 'A16': 'Hwang',\n",
       " 'A17': 'Menias',\n",
       " 'A18': 'Truong',\n",
       " 'A19': 'Bedi',\n",
       " 'A20': 'Hwang'}"
      ]
     },
     "metadata": {},
     "execution_count": 11
    }
   ],
   "source": [
    "reviewer_article_limit = 3\n",
    "results = match_articles_to_reviewers(article_rank_order, reviewer_rank_order, reviewer_article_limit=3)\n",
    "results"
   ]
  },
  {
   "source": [
    "# Now each article needs to be reviewed twice, so the match algorithm will be run again, this time removing the matched pairs from the rank order lists so there is no possibility of them being matched again"
   ],
   "cell_type": "markdown",
   "metadata": {}
  },
  {
   "cell_type": "code",
   "execution_count": 8,
   "metadata": {},
   "outputs": [],
   "source": [
    "def remove_matched_pairs(match_results, article_rank_order, reviewer_rank_order):\n",
    "    for article, reviewer in match_results.items():\n",
    "        try:\n",
    "            article_rank_order[article].remove(reviewer)\n",
    "            reviewer_rank_order[reviewer].remove(article)\n",
    "        except:\n",
    "            continue"
   ]
  },
  {
   "cell_type": "code",
   "execution_count": 14,
   "metadata": {},
   "outputs": [
    {
     "output_type": "execute_result",
     "data": {
      "text/plain": [
       "{'A1': 'Bedi',\n",
       " 'A2': 'Shapiro',\n",
       " 'A3': 'Menias',\n",
       " 'A4': 'Hwang',\n",
       " 'A5': 'Lopera',\n",
       " 'A6': 'Juluru',\n",
       " 'A7': 'Juluru',\n",
       " 'A8': 'Hwang',\n",
       " 'A9': 'Brooke',\n",
       " 'A10': 'Kruskal',\n",
       " 'A11': 'Lopera',\n",
       " 'A12': 'Khurana',\n",
       " 'A13': 'Bedi',\n",
       " 'A14': 'Brooke',\n",
       " 'A15': 'Hwang',\n",
       " 'A16': 'Menias',\n",
       " 'A17': 'Brooke',\n",
       " 'A18': 'Menias',\n",
       " 'A19': 'Kruskal',\n",
       " 'A20': 'Bedi'}"
      ]
     },
     "metadata": {},
     "execution_count": 14
    }
   ],
   "source": [
    "remove_matched_pairs(results, article_rank_order, reviewer_rank_order)\n",
    "round2_results = match_articles_to_reviewers(article_rank_order, reviewer_rank_order, reviewer_article_limit=3)\n",
    "round2_results"
   ]
  },
  {
   "cell_type": "code",
   "execution_count": null,
   "metadata": {},
   "outputs": [],
   "source": []
  }
 ]
}